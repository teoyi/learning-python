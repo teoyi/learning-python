{
 "cells": [
  {
   "cell_type": "markdown",
   "metadata": {},
   "source": [
    "# In class project for Monday, November 16 (due TBD)"
   ]
  },
  {
   "cell_type": "markdown",
   "metadata": {},
   "source": [
    "#### Set-up"
   ]
  },
  {
   "cell_type": "code",
   "execution_count": 65,
   "metadata": {},
   "outputs": [],
   "source": [
    "import matplotlib.pyplot as plt\n",
    "import numpy as np"
   ]
  },
  {
   "cell_type": "markdown",
   "metadata": {},
   "source": [
    "## Optical Character Recognition\n",
    "\n",
    "As a prototypical image analysis and categorization task we look at identifying the correct digit (0..9) in digital images of handwritten digits. For this project we'll use the digits dataset built into sklearn."
   ]
  },
  {
   "cell_type": "markdown",
   "metadata": {},
   "source": [
    "### sklearn digits dataset"
   ]
  },
  {
   "cell_type": "code",
   "execution_count": 66,
   "metadata": {},
   "outputs": [],
   "source": [
    "from sklearn.datasets import load_digits\n",
    "digits = load_digits()"
   ]
  },
  {
   "cell_type": "markdown",
   "metadata": {},
   "source": [
    "#### What is type of digits?"
   ]
  },
  {
   "cell_type": "code",
   "execution_count": 67,
   "metadata": {},
   "outputs": [
    {
     "data": {
      "text/plain": [
       "sklearn.utils.Bunch"
      ]
     },
     "execution_count": 67,
     "metadata": {},
     "output_type": "execute_result"
    }
   ],
   "source": [
    "type(digits)"
   ]
  },
  {
   "cell_type": "markdown",
   "metadata": {},
   "source": [
    "A Bunch object is a custom version of a pandas object (https://pandas.pydata.org/docs/user_guide/index.html)\n",
    "At a basic level a Bunch object is just a special tpye of dictionary and can be used as such."
   ]
  },
  {
   "cell_type": "code",
   "execution_count": 68,
   "metadata": {},
   "outputs": [
    {
     "data": {
      "text/plain": [
       "True"
      ]
     },
     "execution_count": 68,
     "metadata": {},
     "output_type": "execute_result"
    }
   ],
   "source": [
    "isinstance(digits, dict)"
   ]
  },
  {
   "cell_type": "code",
   "execution_count": 69,
   "metadata": {},
   "outputs": [
    {
     "name": "stdout",
     "output_type": "stream",
     "text": [
      "data <class 'numpy.ndarray'>\n",
      "target <class 'numpy.ndarray'>\n",
      "frame <class 'NoneType'>\n",
      "feature_names <class 'list'>\n",
      "target_names <class 'numpy.ndarray'>\n",
      "images <class 'numpy.ndarray'>\n",
      "DESCR <class 'str'>\n"
     ]
    }
   ],
   "source": [
    "for d in digits:\n",
    "    print(d,type(digits[d]))"
   ]
  },
  {
   "cell_type": "code",
   "execution_count": 70,
   "metadata": {},
   "outputs": [
    {
     "name": "stdout",
     "output_type": "stream",
     "text": [
      ".. _digits_dataset:\n",
      "\n",
      "Optical recognition of handwritten digits dataset\n",
      "--------------------------------------------------\n",
      "\n",
      "**Data Set Characteristics:**\n",
      "\n",
      "    :Number of Instances: 5620\n",
      "    :Number of Attributes: 64\n",
      "    :Attribute Information: 8x8 image of integer pixels in the range 0..16.\n",
      "    :Missing Attribute Values: None\n",
      "    :Creator: E. Alpaydin (alpaydin '@' boun.edu.tr)\n",
      "    :Date: July; 1998\n",
      "\n",
      "This is a copy of the test set of the UCI ML hand-written digits datasets\n",
      "https://archive.ics.uci\n"
     ]
    }
   ],
   "source": [
    "#print(digits['DESCR'])\n",
    "print(digits['DESCR'][0:500])"
   ]
  },
  {
   "cell_type": "code",
   "execution_count": 71,
   "metadata": {},
   "outputs": [],
   "source": [
    "d1_data  = (digits['data'][0])\n",
    "d1_image = (digits['images'][0])\n",
    "d1_target = (digits['target_names'][0])"
   ]
  },
  {
   "cell_type": "code",
   "execution_count": 72,
   "metadata": {},
   "outputs": [
    {
     "name": "stdout",
     "output_type": "stream",
     "text": [
      "[[ 0.  0.  5. 13.  9.  1.  0.  0.]\n",
      " [ 0.  0. 13. 15. 10. 15.  5.  0.]\n",
      " [ 0.  3. 15.  2.  0. 11.  8.  0.]\n",
      " [ 0.  4. 12.  0.  0.  8.  8.  0.]\n",
      " [ 0.  5.  8.  0.  0.  9.  8.  0.]\n",
      " [ 0.  4. 11.  0.  1. 12.  7.  0.]\n",
      " [ 0.  2. 14.  5. 10. 12.  0.  0.]\n",
      " [ 0.  0.  6. 13. 10.  0.  0.  0.]]\n"
     ]
    }
   ],
   "source": [
    "print(digits['images'][0])"
   ]
  },
  {
   "cell_type": "code",
   "execution_count": 73,
   "metadata": {},
   "outputs": [
    {
     "data": {
      "image/png": "[encoded data removed]",
      "text/plain": [
       "<Figure size 432x288 with 1 Axes>"
      ]
     },
     "metadata": {
      "needs_background": "light"
     },
     "output_type": "display_data"
    }
   ],
   "source": [
    "    plt.imshow(d1_image, cmap=plt.cm.gray_r, interpolation='nearest')\n",
    "    plt.title(f'Digits: {d1_target}')\n",
    "    plt.show()"
   ]
  },
  {
   "cell_type": "markdown",
   "metadata": {},
   "source": [
    "### a) Describe and visualize the data, for example how many samples, feature and target  dimensionality?  Visualize some of the digits (<=100). "
   ]
  },
  {
   "cell_type": "markdown",
   "metadata": {},
   "source": [
    "### b) How useful is it to graph the dependency of the target on each feature or a pair of features?\n",
    "\n",
    "Pick 2 features (pixels) and plot in two dimensions. Can you learn anything?"
   ]
  },
  {
   "cell_type": "markdown",
   "metadata": {},
   "source": [
    "### c) Apply PCA to the digits data set. Keep two dimensions and create a plot. What if anything can you learn from your result?\n",
    "\n",
    "## Principal Component Analysis (PCA)\n",
    "\n",
    "* http://scikit-learn.org/stable/modules/decomposition.html\n",
    "* https://jakevdp.github.io/PythonDataScienceHandbook/05.09-principal-component-analysis.html\n"
   ]
  },
  {
   "cell_type": "markdown",
   "metadata": {},
   "source": [
    "### d) Classify the digit images with a support vector machine\n",
    "\n",
    "## Support vector machines (SVM)\n",
    "\n",
    "* https://scikit-learn.org/stable/modules/svm.html\n",
    "\n",
    "## Model evaluation and scoring\n",
    "\n",
    "* https://scikit-learn.org/stable/modules/model_evaluation.html\n",
    "\n",
    "## Confusion matrix\n",
    "\n",
    "* https://scikit-learn.org/stable/modules/model_evaluation.html#confusion-matrix\n",
    "* https://scikit-learn.org/stable/modules/generated/sklearn.metrics.confusion_matrix.html#sklearn.metrics.confusion_matrix\n",
    "\n",
    "#### Tasks:\n",
    "1. Learn about SVMs in sklearn. What parameters does this method take?\n",
    "1. Split your data into a training set and test set.\n",
    "1. Think about how to report accuracy for your model? Overall accuracy? How do the concepts of true negatives, false positives, false negatives and true positives apply to this problem? What is a confusion matrix?\n",
    "1. How accurate is your learning model? How does accuracy depend on the parameters of the SVM?\n"
   ]
  },
  {
   "cell_type": "markdown",
   "metadata": {},
   "source": [
    "### e) Classify the digit images with a random forest model\n",
    "\n",
    "## Random forests\n",
    "\n",
    "* https://scikit-learn.org/stable/modules/ensemble.html#forest\n",
    "\n",
    "#### Tasks:\n",
    "1. Learn about Random forests in sklearn. What parameters does this method take?\n",
    "1. Split your data into a training set and test set.\n",
    "1. Think about how to report accuracy for your model? Overall accuracy? How do the concepts of true negatives, false positives, false negatives and true positives apply to this problem? What is a confusion matrix?\n",
    "1. How accurate is your learning model? How does accuracy depend on the parameters of the Random forests?\n"
   ]
  },
  {
   "cell_type": "code",
   "execution_count": null,
   "metadata": {},
   "outputs": [],
   "source": []
  }
 ],
 "metadata": {
  "kernelspec": {
   "display_name": "Python 3",
   "language": "python",
   "name": "python3"
  },
  "language_info": {
   "codemirror_mode": {
    "name": "ipython",
    "version": 3
   },
   "file_extension": ".py",
   "mimetype": "text/x-python",
   "name": "python",
   "nbconvert_exporter": "python",
   "pygments_lexer": "ipython3",
   "version": "3.8.3"
  }
 },
 "nbformat": 4,
 "nbformat_minor": 4
}

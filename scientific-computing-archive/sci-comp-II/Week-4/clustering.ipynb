{
 "cells": [
  {
   "cell_type": "markdown",
   "metadata": {},
   "source": [
    "# Clustering \n",
    "\n",
    "Our vision and visual brain are extremely efficient at identifying groups of objects in space. Achieving the same result using algorithmic calculation is nontrivial. **Clustering** is an example of **unsupervised learning**, i.e. works on unlabeled (no target) data.\n",
    "\n",
    "Consider the following toy datasets in two dimensions (for easy visualization):"
   ]
  },
  {
   "cell_type": "code",
   "execution_count": null,
   "metadata": {},
   "outputs": [],
   "source": [
    "%matplotlib inline"
   ]
  },
  {
   "cell_type": "code",
   "execution_count": null,
   "metadata": {},
   "outputs": [],
   "source": [
    "import numpy as np\n",
    "import matplotlib\n",
    "import matplotlib.pyplot as plt\n",
    "\n",
    "from sklearn import datasets"
   ]
  },
  {
   "cell_type": "code",
   "execution_count": null,
   "metadata": {},
   "outputs": [],
   "source": [
    "# reproducability\n",
    "np.random.seed(0)\n",
    "# sample size\n",
    "n_samples = 1500\n",
    "# dot size for scatter plots. Choose a smaller dotsize for larger sample sizes.\n",
    "dotsize =10"
   ]
  },
  {
   "cell_type": "code",
   "execution_count": null,
   "metadata": {},
   "outputs": [],
   "source": [
    "X1, y1 = datasets.make_circles(n_samples=n_samples, factor=0.5,\n",
    "                                      noise=0.07)"
   ]
  },
  {
   "cell_type": "code",
   "execution_count": null,
   "metadata": {},
   "outputs": [],
   "source": [
    "#help(datasets.make_circles)\n",
    "print(X1.shape);print(y1.shape)\n",
    "#print(X1);print(y1)"
   ]
  },
  {
   "cell_type": "code",
   "execution_count": null,
   "metadata": {},
   "outputs": [],
   "source": [
    "plt.scatter(X1[:, 0], X1[:, 1],s=dotsize)"
   ]
  },
  {
   "cell_type": "code",
   "execution_count": null,
   "metadata": {},
   "outputs": [],
   "source": [
    "X2, y2 = datasets.make_moons(n_samples=n_samples, noise=.07)"
   ]
  },
  {
   "cell_type": "code",
   "execution_count": null,
   "metadata": {},
   "outputs": [],
   "source": [
    "plt.scatter(X2[:, 0], X2[:, 1],s=dotsize)"
   ]
  },
  {
   "cell_type": "code",
   "execution_count": null,
   "metadata": {},
   "outputs": [],
   "source": [
    "X3, y3 = datasets.make_blobs(n_samples=n_samples, random_state=15)"
   ]
  },
  {
   "cell_type": "code",
   "execution_count": null,
   "metadata": {},
   "outputs": [],
   "source": [
    "plt.scatter(X3[:, 0], X3[:, 1],s=dotsize)"
   ]
  },
  {
   "cell_type": "code",
   "execution_count": null,
   "metadata": {},
   "outputs": [],
   "source": [
    "X_raw, y4 = datasets.make_blobs(n_samples=n_samples, random_state=170)\n",
    "transformation = [[0.2, -0.9], [-0.4, 0.8]]\n",
    "X4 = np.dot(X_raw, transformation)"
   ]
  },
  {
   "cell_type": "code",
   "execution_count": null,
   "metadata": {},
   "outputs": [],
   "source": [
    "plt.scatter(X4[:, 0], X4[:, 1],s=dotsize)"
   ]
  },
  {
   "cell_type": "code",
   "execution_count": null,
   "metadata": {},
   "outputs": [],
   "source": [
    "X5,y5 = datasets.make_blobs(n_samples=n_samples,\n",
    "                             cluster_std=[1.0, 2.5, 0.7],\n",
    "                             random_state=170)"
   ]
  },
  {
   "cell_type": "code",
   "execution_count": null,
   "metadata": {},
   "outputs": [],
   "source": [
    "plt.scatter(X5[:, 0], X5[:, 1],s=dotsize)"
   ]
  },
  {
   "cell_type": "code",
   "execution_count": null,
   "metadata": {},
   "outputs": [],
   "source": [
    "X6 = np.random.rand(n_samples, 2)\n",
    "y6 = np.zeros(n_samples,dtype=np.int8)"
   ]
  },
  {
   "cell_type": "code",
   "execution_count": null,
   "metadata": {},
   "outputs": [],
   "source": [
    "plt.scatter(X6[:, 0], X6[:, 1],s=dotsize)"
   ]
  },
  {
   "cell_type": "markdown",
   "metadata": {},
   "source": [
    "The target vector *y* contains the grouping used in generating the data. \n",
    "It can be used to measure the accuracy of the assignments of the clustering algorithms\n",
    "but it not used as input."
   ]
  },
  {
   "cell_type": "code",
   "execution_count": null,
   "metadata": {},
   "outputs": [],
   "source": [
    "colors = np.array(['r','b','g'])\n",
    "plt.scatter(X2[:, 0], X2[:, 1], s=dotsize, color=colors[y2])"
   ]
  },
  {
   "cell_type": "markdown",
   "metadata": {},
   "source": [
    "Colors in matplotlib\n",
    "\n",
    "https://matplotlib.org/3.1.1/api/colors_api.html"
   ]
  },
  {
   "cell_type": "code",
   "execution_count": null,
   "metadata": {},
   "outputs": [],
   "source": [
    "# predefined colors\n",
    "colors = np.array(['r','b','g'])"
   ]
  },
  {
   "cell_type": "code",
   "execution_count": null,
   "metadata": {},
   "outputs": [],
   "source": [
    "# colors as red,green blue value in hex\n",
    "colors = np.array(['#377eb8', '#ff7f00', '#4daf4a',\n",
    "                                             '#f781bf', '#a65628', '#984ea3',\n",
    "                                             '#999999', '#e41a1c', '#dede00'])"
   ]
  },
  {
   "cell_type": "code",
   "execution_count": null,
   "metadata": {},
   "outputs": [],
   "source": [
    "# colors as red,green blue value as tuple\n",
    "colors = np.array([(0.9,0.0,0.0),(0.0,0.9,0.9),(0.5,0.5,0.1)])"
   ]
  },
  {
   "cell_type": "code",
   "execution_count": null,
   "metadata": {},
   "outputs": [],
   "source": [
    "plt.scatter(X1[:, 0], X1[:, 1], s=dotsize, color=colors[y1])"
   ]
  },
  {
   "cell_type": "markdown",
   "metadata": {},
   "source": [
    "# Clustering algorithms\n",
    "\n",
    "Many available in sklearn, see (https://scikit-learn.org/stable/modules/clustering.html)\n"
   ]
  },
  {
   "cell_type": "markdown",
   "metadata": {},
   "source": [
    "# Project for Friday 10/23 (due date TBD, work on 1-3 for now)\n",
    "\n",
    "Try as many of the clustering algorithms available in sklearn as you like (with a minimum of 3, see below) and apply them to the 6 data sets in this notebook. Perform the following tasks and/or answer the following questions:\n",
    "\n",
    "1. Read the description of the algorithm and estimate for which datasets the method will succeed or fail.\n",
    "1. What parameters does the cluster algorithm need and what do they do? Demonstrate by varying the parameters.\n",
    "1. Visualize the results. \n",
    "1. You must be able to explain your code to the instructor.\n",
    "1. Email your project (due Monday before class)\n",
    "\n",
    "A minimum set of methods includes \n",
    "\n",
    "* one out of (K-Means, Gaussian mixtures, Birch, Ward hierarchical clustering )\n",
    "* one out of (Affinity propagation,Mean-shift, Spectral clustering , Agglomerative clustering) \n",
    "* one out of (DBSCAN, OPTICS)\n"
   ]
  },
  {
   "cell_type": "code",
   "execution_count": null,
   "metadata": {},
   "outputs": [],
   "source": []
  }
 ],
 "metadata": {
  "kernelspec": {
   "display_name": "Python 3",
   "language": "python",
   "name": "python3"
  },
  "language_info": {
   "codemirror_mode": {
    "name": "ipython",
    "version": 3
   },
   "file_extension": ".py",
   "mimetype": "text/x-python",
   "name": "python",
   "nbconvert_exporter": "python",
   "pygments_lexer": "ipython3",
   "version": "3.8.3"
  }
 },
 "nbformat": 4,
 "nbformat_minor": 4
}